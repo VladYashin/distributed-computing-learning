{
 "cells": [
  {
   "attachments": {},
   "cell_type": "markdown",
   "metadata": {},
   "source": [
    "# EDA | Poker prediction dataset"
   ]
  },
  {
   "cell_type": "code",
   "execution_count": 1,
   "metadata": {},
   "outputs": [],
   "source": [
    "from pyspark import *\n",
    "from pyspark.sql import SparkSession\n",
    "import pandas as pd\n",
    "import numpy as np"
   ]
  },
  {
   "cell_type": "code",
   "execution_count": 2,
   "metadata": {},
   "outputs": [
    {
     "name": "stdout",
     "output_type": "stream",
     "text": [
      "Spark session created successfully!\n"
     ]
    }
   ],
   "source": [
    "# Create Spark Session\n",
    "\n",
    "spark = SparkSession.builder.appName('Poker Prediction EDA').getOrCreate()\n",
    "print('Spark session created successfully!')"
   ]
  },
  {
   "cell_type": "code",
   "execution_count": 6,
   "metadata": {},
   "outputs": [
    {
     "name": "stdout",
     "output_type": "stream",
     "text": [
      "+---+---+---+---+---+---+---+---+---+---+----+\n",
      "|_c0|_c1|_c2|_c3|_c4|_c5|_c6|_c7|_c8|_c9|_c10|\n",
      "+---+---+---+---+---+---+---+---+---+---+----+\n",
      "|  1|  1|  1| 13|  2|  4|  2|  3|  1| 12|   0|\n",
      "|  3| 12|  3|  2|  3| 11|  4|  5|  2|  5|   1|\n",
      "|  1|  9|  4|  6|  1|  4|  3|  2|  3|  9|   1|\n",
      "|  1|  4|  3| 13|  2| 13|  2|  1|  3|  6|   1|\n",
      "|  3| 10|  2|  7|  1|  2|  2| 11|  4|  9|   0|\n",
      "|  1|  3|  4|  5|  3|  4|  1| 12|  4|  6|   0|\n",
      "|  2|  6|  4| 11|  2|  3|  4|  9|  1|  7|   0|\n",
      "|  3|  2|  4|  9|  3|  7|  4|  3|  4|  5|   0|\n",
      "|  4|  4|  3| 13|  1|  8|  3|  9|  3| 10|   0|\n",
      "|  1|  9|  3|  8|  4|  4|  1|  7|  3|  5|   0|\n",
      "+---+---+---+---+---+---+---+---+---+---+----+\n",
      "only showing top 10 rows\n",
      "\n"
     ]
    }
   ],
   "source": [
    "# Import data\n",
    "\n",
    "df_test = spark.read.csv('raw_data/poker-hand-testing.csv', header=False)\n",
    "\n",
    "df_test.show(10)"
   ]
  },
  {
   "cell_type": "code",
   "execution_count": null,
   "metadata": {},
   "outputs": [],
   "source": []
  }
 ],
 "metadata": {
  "kernelspec": {
   "display_name": "v-env",
   "language": "python",
   "name": "python3"
  },
  "language_info": {
   "codemirror_mode": {
    "name": "ipython",
    "version": 3
   },
   "file_extension": ".py",
   "mimetype": "text/x-python",
   "name": "python",
   "nbconvert_exporter": "python",
   "pygments_lexer": "ipython3",
   "version": "3.10.2"
  },
  "orig_nbformat": 4
 },
 "nbformat": 4,
 "nbformat_minor": 2
}
